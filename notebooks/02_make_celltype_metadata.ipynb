{
 "cells": [
  {
   "cell_type": "markdown",
   "metadata": {},
   "source": [
    "# Make celltype metadata\n",
    "\n",
    "The purpose of this notebook is to map the id (integer number) of each cluster to a biological name. \n",
    "\n",
    "\n",
    "This was done by looking at [Figure 5D](https://www.ncbi.nlm.nih.gov/pmc/articles/PMC4481139/figure/F5/) in the paper.\n",
    "\n",
    "\n",
    "http://scb.sanger.ac.uk/#/base/experiment/1/sample_metadata\n",
    "\n",
    "[![sample_metadata_o](https://www.ncbi.nlm.nih.gov/pmc/articles/PMC4481139/bin/nihms687993f5.jpg)](https://www.ncbi.nlm.nih.gov/core/lw/2.0/html/tileshop_pmc/tileshop_pmc_inline.html?title=Click%20on%20image%20to%20zoom&p=PMC3&id=4481139_nihms687993f5.jpg)"
   ]
  },
  {
   "cell_type": "code",
   "execution_count": 3,
   "metadata": {},
   "outputs": [],
   "source": [
    "import os\n",
    "import itertools\n",
    "\n",
    "import pandas as pd\n",
    "\n",
    "import common"
   ]
  },
  {
   "cell_type": "code",
   "execution_count": 4,
   "metadata": {},
   "outputs": [
    {
     "name": "stdout",
     "output_type": "stream",
     "text": [
      "Figure folder: ../figures/02_make_celltype_metadata\n",
      "Data folder: ../data/02_make_celltype_metadata\n"
     ]
    }
   ],
   "source": [
    "# Assign notebook and folder names\n",
    "notebook_name = '02_make_celltype_metadata'\n",
    "figure_folder = os.path.join(common.FIGURE_FOLDER, notebook_name)\n",
    "data_folder = os.path.join(common.DATA_FOLDER, notebook_name)\n",
    "print('Figure folder:', figure_folder)\n",
    "print('Data folder:', data_folder)\n",
    "\n",
    "# Make the folders\n",
    "! mkdir -p $figure_folder\n",
    "! mkdir -p $data_folder"
   ]
  },
  {
   "cell_type": "markdown",
   "metadata": {},
   "source": [
    "## Cluster IDs (numbers) to the type of cell from the paper\n",
    "\n",
    "Hardcoded, could have errors"
   ]
  },
  {
   "cell_type": "code",
   "execution_count": 5,
   "metadata": {},
   "outputs": [],
   "source": [
    "cluster_name_to_ids = {'Horizontal cells': 1, \n",
    "                       'Retinal ganglion cells': 2,\n",
    "                       'Microglia': 39}"
   ]
  },
  {
   "cell_type": "code",
   "execution_count": 6,
   "metadata": {},
   "outputs": [
    {
     "data": {
      "text/plain": [
       "[(1, 'Horizontal cells'), (2, 'Retinal ganglion cells'), (39, 'Microglia')]"
      ]
     },
     "execution_count": 6,
     "output_type": "execute_result",
     "metadata": {}
    }
   ],
   "source": [
    "pairs = [zip(v, itertools.cycle([k])) if not isinstance(v, int) else [(v, k)] \n",
    "     for k, v in cluster_name_to_ids.items()]\n",
    "pairs = list(itertools.chain(*pairs))\n",
    "pairs"
   ]
  },
  {
   "cell_type": "code",
   "execution_count": 7,
   "metadata": {},
   "outputs": [],
   "source": [
    "celltypes = [name for i, name in pairs]\n",
    "ids = ['cluster_' + str(i).zfill(2) for i, name in pairs]"
   ]
  },
  {
   "cell_type": "code",
   "execution_count": 8,
   "metadata": {},
   "outputs": [
    {
     "data": {
      "text/plain": [
       "cluster_01          Horizontal cells\n",
       "cluster_02    Retinal ganglion cells\n",
       "cluster_39                 Microglia\n",
       "Name: celltype, dtype: object"
      ]
     },
     "execution_count": 8,
     "output_type": "execute_result",
     "metadata": {}
    }
   ],
   "source": [
    "cluster_celltypes = pd.Series(celltypes, index=ids, name='celltype')\n",
    "cluster_celltypes"
   ]
  },
  {
   "cell_type": "code",
   "execution_count": 10,
   "metadata": {},
   "outputs": [
    {
     "data": {
      "text/plain": [
       "'../data/02_make_celltype_metadata/cluster_ids_to_celltypes.csv'"
      ]
     },
     "execution_count": 10,
     "output_type": "execute_result",
     "metadata": {}
    }
   ],
   "source": [
    "csv_filename = os.path.join(data_folder, 'cluster_ids_to_celltypes.csv')\n",
    "csv_filename"
   ]
  },
  {
   "cell_type": "code",
   "execution_count": 11,
   "metadata": {},
   "outputs": [
    {
     "name": "stdout",
     "output_type": "stream",
     "text": [
      "cluster_id,celltype\r\n",
      "cluster_01,Horizontal cells\r\n",
      "cluster_02,Retinal ganglion cells\r\n",
      "cluster_39,Microglia\r\n"
     ]
    }
   ],
   "source": [
    "cluster_celltypes.to_csv(csv_filename, index=True, index_label='cluster_id', header=True)\n",
    "! head $csv"
   ]
  },
  {
   "cell_type": "code",
   "execution_count": null,
   "metadata": {},
   "outputs": [],
   "source": [
    ""
   ]
  }
 ],
 "metadata": {
  "kernelspec": {
   "display_name": "Python 3",
   "language": "python",
   "name": "python3"
  },
  "language_info": {
   "codemirror_mode": {
    "name": "ipython",
    "version": 3.0
   },
   "file_extension": ".py",
   "mimetype": "text/x-python",
   "name": "python",
   "nbconvert_exporter": "python",
   "pygments_lexer": "ipython3",
   "version": "3.6.1"
  },
  "varInspector": {
   "cols": {
    "lenName": 16.0,
    "lenType": 16.0,
    "lenVar": 40.0
   },
   "kernels_config": {
    "python": {
     "delete_cmd_postfix": "",
     "delete_cmd_prefix": "del ",
     "library": "var_list.py",
     "varRefreshCmd": "print(var_dic_list())"
    },
    "r": {
     "delete_cmd_postfix": ") ",
     "delete_cmd_prefix": "rm(",
     "library": "var_list.r",
     "varRefreshCmd": "cat(var_dic_list()) "
    }
   },
   "types_to_exclude": [
    "module",
    "function",
    "builtin_function_or_method",
    "instance",
    "_Feature"
   ],
   "window_display": false
  }
 },
 "nbformat": 4,
 "nbformat_minor": 2
}